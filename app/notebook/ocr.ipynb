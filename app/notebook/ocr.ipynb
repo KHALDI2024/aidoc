{
 "cells": [
  {
   "cell_type": "markdown",
   "id": "4e58bda4",
   "metadata": {},
   "source": [
    "## OCR using Tesseract and EasyOCR"
   ]
  },
  {
   "cell_type": "code",
   "execution_count": 2,
   "id": "7355146e",
   "metadata": {},
   "outputs": [],
   "source": [
    "import cv2\n",
    "import pytesseract\n",
    "from PIL import Image\n",
    "\n",
    "# Load and preprocess\n",
    "image = cv2.imread(\"../uploads/images/page_1.jpg\")\n",
    "gray = cv2.cvtColor(image, cv2.COLOR_BGR2GRAY)\n",
    "gray = cv2.bilateralFilter(gray, 11, 17, 17)  # Noise reduction\n",
    "_, thresh = cv2.threshold(gray, 0, 255, cv2.THRESH_BINARY + cv2.THRESH_OTSU)\n",
    "\n",
    "# Save cleaned image (optional)\n",
    "cv2.imwrite(\"cleaned.jpg\", thresh)\n",
    "\n",
    "# OCR\n",
    "text = pytesseract.image_to_string(thresh, lang='fra')\n"
   ]
  },
  {
   "cell_type": "code",
   "execution_count": 1,
   "id": "474cb336",
   "metadata": {},
   "outputs": [
    {
     "name": "stderr",
     "output_type": "stream",
     "text": [
      "Neither CUDA nor MPS are available - defaulting to CPU. Note: This module is much faster with a GPU.\n"
     ]
    },
    {
     "name": "stdout",
     "output_type": "stream",
     "text": [
      "GPU is not available.\n"
     ]
    },
    {
     "name": "stderr",
     "output_type": "stream",
     "text": [
      "Downloading recognition model, please wait. This may take several minutes depending upon your network connection.\n"
     ]
    },
    {
     "name": "stdout",
     "output_type": "stream",
     "text": [
      "Progress: |██████████████████████████████████████████████████| 100.0% Complete"
     ]
    },
    {
     "name": "stderr",
     "output_type": "stream",
     "text": [
      "c:\\Users\\ProBook\\Documents\\KHALDI FATIMA ZAHRA - SUPMTI\\MASTER SUPMTI\\session 3\\PFA\\last version pfa\\aidoc\\.venv\\Lib\\site-packages\\torch\\utils\\data\\dataloader.py:665: UserWarning: 'pin_memory' argument is set as true but no accelerator is found, then device pinned memory won't be used.\n",
      "  warnings.warn(warn_msg)\n"
     ]
    },
    {
     "name": "stdout",
     "output_type": "stream",
     "text": [
      "MODÈLE FOURNI PAR Batappli Lagiciel batimant\n",
      "Ges ARTISANs SARL\n",
      "Travaux DU BÂTIMENT NEUF ET RENOUATION\n",
      "wwwbatappli_tr\n",
      "Nom du client Adresse du client Code postal et ville du client\n",
      "AVOIR Numéro AV5O Date 10/06/2024\n",
      "N' TVA du client\n",
      "Avoir sur facture n*24 émise le 14/04/24\n",
      "Objet Exemple de chantier et de prestation\n",
      "Libellé\n",
      "Prix U\n",
      "Qté\n",
      "U\n",
      "Total HT\n",
      "% tva\n",
      "TVA\n",
      "Total TTC\n",
      "D'après le Devis N'254 du 11/02/24\n",
      "Exemple de travaux Exemple de travaux Exemple de travaux\n",
      "100,00 € 10,00 € 100,00 €\n",
      "4,00 U 100,00/ m2 2,00 m2\n",
      "400,00 € 1 000,00 € 200,00 €\n",
      "20,00 10,00 20,00\n",
      "80,00 € 100,00 € 40,00 €\n",
      "480,00 € 100,00 € 240,00 €\n",
      "Adresse de chantier Nom du client Adresse du chantier Code postal Ville\n",
      "Total HT TVA à 10% TVA à 20% Total TVA Net à déduire\n",
      "600,00 € 100,00 € 120,00 € 220,00 € 820,00 €\n",
      "Date d'échéance 25/06/24\n",
      "Mode de règlement Par chèque Tout retard de paiement donnera droit à une indemnité pour frais de recouvrement s'élevant à 40 € (Loi N'2012-387 du 22 mars 2012)\n",
      "Ici toutes vos coordonnées légales Vos contacts (tél, adresse; mail.. .), NS de siret, N' de TVA; vos référérences dassurance décennale, capital social; code APE; type d'entreprise\n",
      "batappli.fr copyright 2024, marque déposée numéro 4855781 Avertissement le modèle est donné à titre d'exemple. SYSTEMLOG Batappli ne peut être tenue responsable de son utilisation\n",
      "Batapppi Loglciel bâtimerit\n",
      "Batappli logiciel bâtiment 04 99 13 32 00 215, avenue Clément Ader 34170 Castelnau le Lez info@batappli fr\n",
      "Chiffrez avec Batappli wwwbatappli.fr\n"
     ]
    }
   ],
   "source": [
    "# !python -m pip install easyocr\n",
    "\n",
    "import easyocr\n",
    "import torch\n",
    "\n",
    "if torch.cuda.is_available():\n",
    "    print(f\"GPU available: {torch.cuda.device_count()} devices\")\n",
    "    print(f\"GPU Name: {torch.cuda.get_device_name(0)}\")\n",
    "else:\n",
    "    print(\"GPU is not available.\")\n",
    "reader = easyocr.Reader(['fr'])  # Arabic\n",
    "results = reader.readtext('../uploads/images/page_1.jpg', paragraph=True, detail=0)\n",
    "print(\"\\n\".join(results))"
   ]
  }
 ],
 "metadata": {
  "kernelspec": {
   "display_name": ".venv",
   "language": "python",
   "name": "python3"
  },
  "language_info": {
   "codemirror_mode": {
    "name": "ipython",
    "version": 3
   },
   "file_extension": ".py",
   "mimetype": "text/x-python",
   "name": "python",
   "nbconvert_exporter": "python",
   "pygments_lexer": "ipython3",
   "version": "3.12.8"
  }
 },
 "nbformat": 4,
 "nbformat_minor": 5
}
