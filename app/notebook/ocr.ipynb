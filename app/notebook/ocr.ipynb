{
 "cells": [
  {
   "cell_type": "markdown",
   "id": "4e58bda4",
   "metadata": {},
   "source": [
    "## OCR using Tesseract and EasyOCR"
   ]
  },
  {
   "cell_type": "code",
   "execution_count": 2,
   "id": "7355146e",
   "metadata": {},
   "outputs": [],
   "source": [
    "import cv2\n",
    "import pytesseract\n",
    "from PIL import Image\n",
    "\n",
    "# Load and preprocess\n",
    "image = cv2.imread(\"../uploads/images/page_1.jpg\")\n",
    "gray = cv2.cvtColor(image, cv2.COLOR_BGR2GRAY)\n",
    "gray = cv2.bilateralFilter(gray, 11, 17, 17)  # Noise reduction\n",
    "_, thresh = cv2.threshold(gray, 0, 255, cv2.THRESH_BINARY + cv2.THRESH_OTSU)\n",
    "\n",
    "# Save cleaned image (optional)\n",
    "cv2.imwrite(\"cleaned.jpg\", thresh)\n",
    "\n",
    "# OCR\n",
    "text = pytesseract.image_to_string(thresh, lang='fra')\n"
   ]
  },
  {
   "cell_type": "code",
   "execution_count": null,
   "id": "474cb336",
   "metadata": {},
   "outputs": [
    {
     "name": "stderr",
     "output_type": "stream",
     "text": [
      "Neither CUDA nor MPS are available - defaulting to CPU. Note: This module is much faster with a GPU.\n"
     ]
    },
    {
     "name": "stdout",
     "output_type": "stream",
     "text": [
      "GPU is not available.\n"
     ]
    },
    {
     "name": "stderr",
     "output_type": "stream",
     "text": [
      "c:\\Users\\ProBook\\Documents\\KHALDI FATIMA ZAHRA - SUPMTI\\MASTER SUPMTI\\session 3\\PFA\\last version pfa\\aidoc\\.venv\\Lib\\site-packages\\torch\\utils\\data\\dataloader.py:665: UserWarning: 'pin_memory' argument is set as true but no accelerator is found, then device pinned memory won't be used.\n",
      "  warnings.warn(warn_msg)\n"
     ]
    },
    {
     "name": "stdout",
     "output_type": "stream",
     "text": [
      "إ٥  |0٧8 ٤،غ0٥  م2د3 54٩٨ اوأفزوه [\n",
      "٥٥5ك=7? 5س $^?،\n",
      "آق#ع85 ٥٧ ٧٧إ٦ ٥٥عط٤٥٥ آ٤ =٤٧ \n",
      "` ر٣ةة5  \n",
      " ٨  ٥ ع^عة س0 عىى  ^ع س ١٥=زس ث /صىم  ٥\n",
      "٧0| ^٧50  ٤س  10/06/2024  4\n",
      "٨ع ا 0 ٧٥ت  \n",
      "14/04/24 ع| ىرغ 24%^ ع٣س،ع4{ ٣سى عأم٧^\n",
      " مهىع  ع ع ٣أم٥طء ع0 عع»٤ زطش\n",
      "٤ ع٥_\n",
      " ٧ »٢\n",
      "@8\n",
      "٧\n",
      "آ  ع7٥4\n",
      "٥س٤ %\n",
      "7٧\n",
      "ع7آ ع4،٥\n",
      "11/02/24 س0 254%^ ىسع  ع| ىر  \n",
      "*سصره[خ ع0 رع»٤ *س3بهخ ع عرع٤ *صر3 خ ع رع»٤\n",
      "100,00 ٤ 10,0٤ ٥ 100,00 ٤\n",
      " 4,00 \"2 100,00  2 2,00\n",
      "400,00 ٤ 1 000,00 ٤ 200,00 ٤\n",
      "20,00 10,00 20,00\n",
      "80,00 ٤ 100,00 ٤ 40,00 ٤\n",
      "480,00 ٤ 100,00 ٤ 240,00 ٤\n",
      "ع،^طء ع عىىص  ٨عزا ٧ \"٥  ٣^دطع س عىىف  |١١٥ اصى  م \n",
      "آ٢ /د٥  ٢٧^ 2 10% ٢|^ 2 20% ^٧ح /٥4  ع٣س ش 2 عث \n",
      "600,00 ٤ 100,00 ٤ 120,00 ٤ 220,00 ٤ 820,00 ٤\n",
      "25/06/24 ى٥٨ئطء @٥ \n",
      "س٩غطى ٥٣  عح9ئ ع ~٥  \"سمى [ ع ىص[{ ٣سم   ^فز عس 4 زم[ صر0٥٩ \"  ع0 فه٥ س٥  )2012 ىع3\" 22 س 387-2٥12%^ نم( .٤ 40 4 3٨ عاغ  \n",
      "ىع١د9غا ى معمم ىمس ىسم زع|  ع٥ى ىصسىى4 ىىرئرئ{ئ ىس ,ح ع0  ,،ع زى ٥  ,)  .١ن٥ ,عىىف4 , ش( ىى3مى ٧٥5 ىأع^ع عرر` ,عع^ عمى ,١ عمى اهر ى\n",
      "4855781 مع٩س شىمف عس٩ع٥ ,2024 م9ررم * ة3  ^،هىنس مى ع~ ط4ضى   س٤ عق سث  ع  3   06.ءعآأ٧$ عئ ع` ٥ ٥٤~ 'ىع ث%\" ٥|  عىى ر\n",
      "3414|[ ٨٨ك  عق_\n",
      "04 9913 3200 ٤٨،ةط ععز9ه ناممهد8 ع{.أ مم33@٥ع٨أ 2_ ع| ٨٥٧ ع،ش 34170 ٤^ ٤٨ع س3٨ 25\n",
      "ت٣2ه33 ع4٧ ،٤[::أطع ٣* ةارهه5 \"3 \n"
     ]
    }
   ],
   "source": [
    "# !python -m pip install easyocr\n",
    "\n",
    "import easyocr\n",
    "import torch\n",
    "\n",
    "if torch.cuda.is_available():\n",
    "    print(f\"GPU available: {torch.cuda.device_count()} devices\")\n",
    "    print(f\"GPU Name: {torch.cuda.get_device_name(0)}\")\n",
    "else:\n",
    "    print(\"GPU is not available.\")\n",
    "reader = easyocr.Reader(['fr'])  # Arabic\n",
    "results = reader.readtext('../uploads/images/page_1.jpg', paragraph=True, detail=0)\n",
    "print(\"\\n\".join(results))"
   ]
  }
 ],
 "metadata": {
  "kernelspec": {
   "display_name": ".venv",
   "language": "python",
   "name": "python3"
  },
  "language_info": {
   "codemirror_mode": {
    "name": "ipython",
    "version": 3
   },
   "file_extension": ".py",
   "mimetype": "text/x-python",
   "name": "python",
   "nbconvert_exporter": "python",
   "pygments_lexer": "ipython3",
   "version": "3.12.8"
  }
 },
 "nbformat": 4,
 "nbformat_minor": 5
}
