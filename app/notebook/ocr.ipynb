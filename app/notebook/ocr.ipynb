{
 "cells": [
  {
   "cell_type": "markdown",
   "id": "4e58bda4",
   "metadata": {},
   "source": [
    "## OCR using Tesseract and EasyOCR"
   ]
  },
  {
   "cell_type": "code",
   "execution_count": 4,
   "id": "7355146e",
   "metadata": {},
   "outputs": [
    {
     "name": "stdout",
     "output_type": "stream",
     "text": [
      "الذكاء االضطناعئ: أو الذكاء الصناعي: أو الذكاغ\n",
      "\n",
      "الصطنعية! هو سلوك وخصائص معينة تتسم بها البرامج\n",
      "\n",
      "الحاسوبية فتحاكي القدرات الذهنية البشرية وأنماط عملها. ومن\n",
      "أهم هذه الخصائص: القدرة على التعلم واالستنتاجء ورد\n",
      "\n",
      "الفعل على حاالت لم تبرمج في اآللة إال أنه مصطلح جدلي؟ لعدم\n",
      "بأنه: نكاة ثبديه اآلالت والبرامج بما يحاكي القدرات الذهنية\n",
      "البشرية وأنماط عملها مثل: القدرة على التعلم واالستنتاجء ورد\n",
      "الفعل على حاالت لم تبرمج في اآللة وبه تصنغ حواسيب وبرامج\n",
      "قادرة على اتخاذ سلوك بشري.\n",
      "\n"
     ]
    }
   ],
   "source": [
    "import cv2\n",
    "import pytesseract\n",
    "from PIL import Image\n",
    "\n",
    "# Load and preprocess\n",
    "image = cv2.imread(\"../uploads/images/page_1.jpg\")\n",
    "gray = cv2.cvtColor(image, cv2.COLOR_BGR2GRAY)\n",
    "gray = cv2.bilateralFilter(gray, 11, 17, 17)  # Noise reduction\n",
    "_, thresh = cv2.threshold(gray, 0, 255, cv2.THRESH_BINARY + cv2.THRESH_OTSU)\n",
    "\n",
    "# Save cleaned image (optional)\n",
    "cv2.imwrite(\"cleaned.jpg\", thresh)\n",
    "pytesseract.pytesseract.tesseract_cmd = r'C:\\Users\\fkhaldi\\AppData\\Local\\Programs\\Tesseract-OCR\\tesseract.exe'\n",
    "poppler_path = r'C:\\Users\\fkhaldi\\Documents\\SUPMTI\\PFA\\colab\\Release-24.08.0-0\\poppler-24.08.0\\Library\\bin'\n",
    "\n",
    "# OCR\n",
    "text = pytesseract.image_to_string(thresh, lang='ara')\n",
    "print(text)"
   ]
  },
  {
   "cell_type": "code",
   "execution_count": 3,
   "id": "474cb336",
   "metadata": {},
   "outputs": [
    {
     "name": "stderr",
     "output_type": "stream",
     "text": [
      "Neither CUDA nor MPS are available - defaulting to CPU. Note: This module is much faster with a GPU.\n",
      "Downloading detection model, please wait. This may take several minutes depending upon your network connection.\n"
     ]
    },
    {
     "name": "stdout",
     "output_type": "stream",
     "text": [
      "GPU is not available.\n",
      "Progress: |██████████████████████████████████████████████████| 100.0% Complete"
     ]
    },
    {
     "name": "stderr",
     "output_type": "stream",
     "text": [
      "Downloading recognition model, please wait. This may take several minutes depending upon your network connection.\n"
     ]
    },
    {
     "name": "stdout",
     "output_type": "stream",
     "text": [
      "Progress: |██████████████████████████████████████████████████| 100.0% Complete"
     ]
    },
    {
     "name": "stderr",
     "output_type": "stream",
     "text": [
      "c:\\Users\\fkhaldi\\Documents\\SUPMTI\\PFA\\projet_pfa\\aidoc\\.venv\\Lib\\site-packages\\torch\\utils\\data\\dataloader.py:665: UserWarning: 'pin_memory' argument is set as true but no accelerator is found, then device pinned memory won't be used.\n",
      "  warnings.warn(warn_msg)\n"
     ]
    },
    {
     "name": "stdout",
     "output_type": "stream",
     "text": [
      "الذكاء الاصطناعي[ أو الذكاء الصناعي 2[ أو الذكاء الصتنعي ]3[ هو سلوك وخصائص معينة تتسم بها البر امج الحاسوا بية فتحاكي القدر ات الذهنية البشرية وأنماط عملها . ومن أهم هذه الخصائص : القدرة على التعلمء والا استنتاج  ورد الفعل علي حالات لم تبر مج في الآلةء إلا أنه مصطلح جدلي; لعدم وجود تعريف محدد للذكاء  ويمكن أن يعرف الذكاء الاصطناعي بأنه : ذكاء تبديه الآلات والبرا امج بما يحاكي القدر ات الذهنية البشرية وأنماط عملهاء مثل : القدرة على التعلمء و الاستنتاج  ورد الفعل على حالات لم تبر مج في الآلة وبه تصنع حواسيب وبرامج قادرة على اتخاذ سلوك بشري\n"
     ]
    }
   ],
   "source": [
    "# !python -m pip install easyocr\n",
    "\n",
    "import easyocr\n",
    "import torch\n",
    "\n",
    "if torch.cuda.is_available():\n",
    "    print(f\"GPU available: {torch.cuda.device_count()} devices\")\n",
    "    print(f\"GPU Name: {torch.cuda.get_device_name(0)}\")\n",
    "else:\n",
    "    print(\"GPU is not available.\")\n",
    "reader = easyocr.Reader(['ar'])  # Arabic\n",
    "results = reader.readtext('../uploads/images/page_1.jpg', paragraph=True, detail=0)\n",
    "print(\"\\n\".join(results))"
   ]
  }
 ],
 "metadata": {
  "kernelspec": {
   "display_name": ".venv",
   "language": "python",
   "name": "python3"
  },
  "language_info": {
   "codemirror_mode": {
    "name": "ipython",
    "version": 3
   },
   "file_extension": ".py",
   "mimetype": "text/x-python",
   "name": "python",
   "nbconvert_exporter": "python",
   "pygments_lexer": "ipython3",
   "version": "3.12.4"
  }
 },
 "nbformat": 4,
 "nbformat_minor": 5
}
